{
 "cells": [
  {
   "cell_type": "code",
   "execution_count": 153,
   "metadata": {},
   "outputs": [],
   "source": [
    "import requests"
   ]
  },
  {
   "cell_type": "code",
   "execution_count": 154,
   "metadata": {},
   "outputs": [],
   "source": [
    "r = requests.get('https://api.github.com/events')"
   ]
  },
  {
   "cell_type": "code",
   "execution_count": 155,
   "metadata": {},
   "outputs": [
    {
     "data": {
      "text/plain": [
       "<Response [200]>"
      ]
     },
     "execution_count": 155,
     "metadata": {},
     "output_type": "execute_result"
    }
   ],
   "source": [
    "r"
   ]
  },
  {
   "cell_type": "code",
   "execution_count": 156,
   "metadata": {},
   "outputs": [
    {
     "ename": "AttributeError",
     "evalue": "'Response' object has no attribute 'status_coder'",
     "output_type": "error",
     "traceback": [
      "\u001b[0;31m---------------------------------------------------------------------------\u001b[0m",
      "\u001b[0;31mAttributeError\u001b[0m                            Traceback (most recent call last)",
      "Cell \u001b[0;32mIn[156], line 1\u001b[0m\n\u001b[0;32m----> 1\u001b[0m \u001b[43mr\u001b[49m\u001b[38;5;241;43m.\u001b[39;49m\u001b[43mstatus_coder\u001b[49m\n",
      "\u001b[0;31mAttributeError\u001b[0m: 'Response' object has no attribute 'status_coder'"
     ]
    }
   ],
   "source": [
    "r.status_coder"
   ]
  },
  {
   "cell_type": "code",
   "execution_count": null,
   "metadata": {},
   "outputs": [
    {
     "data": {
      "text/plain": [
       "'[{\"id\":\"35238941536\",\"type\":\"PushEvent\",\"actor\":{\"id\":157866528,\"login\":\"ttgds3asu\",\"display_login\":\"ttgds3asu\",\"gravatar_id\":\"\",\"url\":\"https://api.github.com/users/ttgds3asu\",\"avatar_url\":\"https://avatars.githubusercontent.com/u/157866528?\"},\"repo\":{\"id\":748931139,\"name\":\"yos124to2pholskia/repo8\",\"url\":\"https://api.github.com/repos/yos124to2pholskia/repo8\"},\"payload\":{\"repository_id\":748931139,\"push_id\":16859352433,\"size\":1,\"distinct_size\":1,\"ref\":\"refs/heads/main\",\"head\":\"62937e124263a50e454d1ae78f13f68992779e91\",\"before\":\"d74cd14f19ebe3ee4162769b1826a07b4c49507e\",\"commits\":[{\"sha\":\"62937e124263a50e454d1ae78f13f68992779e91\",\"author\":{\"email\":\"you@example.com\",\"name\":\"Your Name\"},\"message\":\"Empty Commit\",\"distinct\":true,\"url\":\"https://api.github.com/repos/yos124to2pholskia/repo8/commits/62937e124263a50e454d1ae78f13f68992779e91\"}]},\"public\":true,\"created_at\":\"2024-01-30T12:13:24Z\",\"org\":{\"id\":157838041,\"login\":\"yos124to2pholskia\",\"gravatar_id\":\"\",\"url\":\"https://api.github.com/orgs/yos124to2pholskia\",\"avatar_url\":\"https://avatars.githubusercontent.com/u/157838041?\"}},{\"id\":\"35238941592\",\"type\":\"PushEvent\",\"actor\":{\"id\":41898282,\"login\":\"github-actions[bot]\",\"display_login\":\"github-actions\",\"gravatar_id\":\"\",\"url\":\"https://api.github.com/users/github-actions[bot]\",\"avatar_url\":\"https://avatars.githubusercontent.com/u/41898282?\"},\"repo\":{\"id\":744984579,\"name\":\"kyrxie/Actions\",\"url\":\"https://api.github.com/repos/kyrxie/Actions\"},\"payload\":{\"repository_id\":744984579,\"push_id\":16859352451,\"size\":1,\"distinct_size\":1,\"ref\":\"refs/heads/master\",\"head\":\"f473931c6868f0a4e5456270e8fecfed0872e980\",\"before\":\"e98c159f3f8716ac3ce18b498c69867fb6e91b20\",\"commits\":[{\"sha\":\"f473931c6868f0a4e5456270e8fecfed0872e980\",\"author\":{\"email\":\"zach12188@gmail.com\",\"name\":\"kyrxie\"},\"message\":\"Make Program Every Day!\",\"distinct\":true,\"url\":\"https://api.github.com/repos/kyrxie/Actions/commits/f473931c6868f0a4e5456270e8fecfed0872e980\"}]},\"public\":true,\"created_at\":\"2024-01-30T12:13:24Z\"},{\"id\":\"35238941555\",\"type\":\"PushEvent\",\"actor\":{\"id\":41898282,\"login\":\"github-actions[bot]\",\"display_login\":\"github-actions\",\"gravatar_id\":\"\",\"url\":\"https://api.github.com/users/github-actions[bot]\",\"avatar_url\":\"https://avatars.githubusercontent.com/u/41898282?\"},\"repo\":{\"id\":538197194,\"name\":\"fabiolpgomes/fabiolpgomes\",\"url\":\"https://api.github.com/repos/fabiolpgomes/fabiolpgomes\"},\"payload\":{\"repository_id\":538197194,\"push_id\":16859352430,\"size\":1,\"distinct_size\":1,\"ref\":\"refs/heads/output\",\"head\":\"51659d44d2b5f95c49c4af6779fc31988819f74b\",\"before\":\"693e763257e52d69662ed121554d27476588caa9\",\"commits\":[{\"sha\":\"51659d44d2b5f95c49c4af6779fc31988819f74b\",\"author\":{\"email\":\"41898282+github-actions[bot]@users.noreply.github.com\",\"name\":\"github-actions[bot]\"},\"message\":\"Deploy to GitHub pages\",\"distinct\":true,\"url\":\"https://api.github.com/repos/fabiolpgomes/fabiolpgomes/commits/51659d44d2b5f95c49c4af6779fc31988819f74b\"}]},\"public\":true,\"created_at\":\"2024-01-30T12:13:24Z\"},{\"id\":\"35238941561\",\"type\":\"CreateEvent\",\"actor\":{\"id\":157802154,\"login\":\"AsaadKa\",\"display_login\":\"AsaadKa\",\"gravatar_id\":\"\",\"url\":\"https://api.github.com/users/AsaadKa\",\"avatar_url\":\"https://avatars.githubusercontent.com/u/157802154?\"},\"repo\":{\"id\":750316301,\"name\":\"AsaadKa/Test-Project-\",\"url\":\"https://api.github.com/repos/AsaadKa/Test-Project-\"},\"payload\":{\"ref\":null,\"ref_type\":\"repository\",\"master_branch\":\"main\",\"description\":\"this is my first project i made by learning HTML , CSS , JavaScript\",\"pusher_type\":\"user\"},\"public\":true,\"created_at\":\"2024-01-30T12:13:24Z\"},{\"id\":\"35238941521\",\"type\":\"PushEvent\",\"actor\":{\"id\":41898282,\"login\":\"github-actions[bot]\",\"display_login\":\"github-actions\",\"gravatar_id\":\"\",\"url\":\"https://api.github.com/users/github-actions[bot]\",\"avatar_url\":\"https://avatars.githubusercontent.com/u/41898282?\"},\"repo\":{\"id\":463492470,\"name\":\"LaraJustino/LaraJustino\",\"url\":\"https://api.github.com/repos/LaraJustino/LaraJustino\"},\"payload\":{\"repository_id\":463492470,\"push_id\":16859352414,\"size\":1,\"distinct_size\":1,\"ref\":\"refs/heads/output\",\"head\":\"51659d44d2b5f95c49c4af6779fc31988819f74b\",\"before\":\"b94da3012bdefa469730041e3cd534b078c8a163\",\"commits\":[{\"sha\":\"51659d44d2b5f95c49c4af6779fc31988819f74b\",\"author\":{\"email\":\"41898282+github-actions[bot]@users.noreply.github.com\",\"name\":\"github-actions[bot]\"},\"message\":\"Deploy to GitHub pages\",\"distinct\":true,\"url\":\"https://api.github.com/repos/LaraJustino/LaraJustino/commits/51659d44d2b5f95c49c4af6779fc31988819f74b\"}]},\"public\":true,\"created_at\":\"2024-01-30T12:13:24Z\"},{\"id\":\"35238941532\",\"type\":\"PushEvent\",\"actor\":{\"id\":111329684,\"login\":\"B74LABgit\",\"display_login\":\"B74LABgit\",\"gravatar_id\":\"\",\"url\":\"https://api.github.com/users/B74LABgit\",\"avatar_url\":\"https://avatars.githubusercontent.com/u/111329684?\"},\"repo\":{\"id\":728366641,\"name\":\"B74LABgit/CAM\",\"url\":\"https://api.github.com/repos/B74LABgit/CAM\"},\"payload\":{\"repository_id\":728366641,\"push_id\":16859352423,\"size\":1,\"distinct_size\":1,\"ref\":\"refs/heads/main\",\"head\":\"ea0abc19e698bf9e556894ef59e1b47d87bb17b4\",\"before\":\"0b029003377fdc56cc24f011cf9170d54bc2f662\",\"commits\":[{\"sha\":\"ea0abc19e698bf9e556894ef59e1b47d87bb17b4\",\"author\":{\"email\":\"111329684+B74LABgit@users.noreply.github.com\",\"name\":\"B74LABgit\"},\"message\":\"committing files\",\"distinct\":true,\"url\":\"https://api.github.com/repos/B74LABgit/CAM/commits/ea0abc19e698bf9e556894ef59e1b47d87bb17b4\"}]},\"public\":true,\"created_at\":\"2024-01-30T12:13:24Z\"},{\"id\":\"35238941573\",\"type\":\"PushEvent\",\"actor\":{\"id\":41898282,\"login\":\"github-actions[bot]\",\"display_login\":\"github-actions\",\"gravatar_id\":\"\",\"url\":\"https://api.github.com/users/github-actions[bot]\",\"avatar_url\":\"https://avatars.githubusercontent.com/u/41898282?\"},\"repo\":{\"id\":694678934,\"name\":\"PedroRaposo02/PedroRaposo02\",\"url\":\"https://api.github.com/repos/PedroRaposo02/PedroRaposo02\"},\"payload\":{\"repository_id\":694678934,\"push_id\":16859352442,\"size\":1,\"distinct_size\":1,\"ref\":\"refs/heads/output\",\"head\":\"0450ba327d8b7a6408848faa7bd62e6fff60494a\",\"before\":\"7a68b970a7d60f934a365bee34d774be62c3c980\",\"commits\":[{\"sha\":\"0450ba327d8b7a6408848faa7bd62e6fff60494a\",\"author\":{\"email\":\"41898282+github-actions[bot]@users.noreply.github.com\",\"name\":\"github-actions[bot]\"},\"message\":\"Deploy to GitHub pages\",\"distinct\":true,\"url\":\"https://api.github.com/repos/PedroRaposo02/PedroRaposo02/commits/0450ba327d8b7a6408848faa7bd62e6fff60494a\"}]},\"public\":true,\"created_at\":\"2024-01-30T12:13:24Z\"},{\"id\":\"35238941497\",\"type\":\"PushEvent\",\"actor\":{\"id\":41898282,\"login\":\"github-actions[bot]\",\"display_login\":\"github-actions\",\"gravatar_id\":\"\",\"url\":\"https://api.github.com/users/github-actions[bot]\",\"avatar_url\":\"https://avatars.githubusercontent.com/u/41898282?\"},\"repo\":{\"id\":454015538,\"name\":\"Amrit6969/Amrit6969\",\"url\":\"https://api.github.com/repos/Amrit6969/Amrit6969\"},\"payload\":{\"repository_id\":454015538,\"push_id\":16859352409,\"size\":1,\"distinct_size\":1,\"ref\":\"refs/heads/output\",\"head\":\"51659d44d2b5f95c49c4af6779fc31988819f74b\",\"before\":\"30103d27387df14c53ecaf2e5b8a61c8090238eb\",\"commits\":[{\"sha\":\"51659d44d2b5f95c49c4af6779fc31988819f74b\",\"author\":{\"email\":\"41898282+github-actions[bot]@users.noreply.github.com\",\"name\":\"github-actions[bot]\"},\"message\":\"Deploy to GitHub pages\",\"distinct\":true,\"url\":\"https://api.github.com/repos/Amrit6969/Amrit6969/commits/51659d44d2b5f95c49c4af6779fc31988819f74b\"}]},\"public\":true,\"created_at\":\"2024-01-30T12:13:24Z\"},{\"id\":\"35238941498\",\"type\":\"CreateEvent\",\"actor\":{\"id\":115665590,\"login\":\"ivanduplenskikh\",\"display_login\":\"ivanduplenskikh\",\"gravatar_id\":\"\",\"url\":\"https://api.github.com/users/ivanduplenskikh\",\"avatar_url\":\"https://avatars.githubusercontent.com/u/115665590?\"},\"repo\":{\"id\":53052789,\"name\":\"microsoft/azure-pipelines-agent\",\"url\":\"https://api.github.com/repos/microsoft/azure-pipelines-agent\"},\"payload\":{\"ref\":\"users/ivanduplenskikh/update-git-to-v2.43.0\",\"ref_type\":\"branch\",\"master_branch\":\"master\",\"description\":\"Azure Pipelines Agent 🚀\",\"pusher_type\":\"user\"},\"public\":true,\"created_at\":\"2024-01-30T12:13:24Z\",\"org\":{\"id\":6154722,\"login\":\"microsoft\",\"gravatar_id\":\"\",\"url\":\"https://api.github.com/orgs/microsoft\",\"avatar_url\":\"https://avatars.githubusercontent.com/u/6154722?\"}},{\"id\":\"35238941557\",\"type\":\"PushEvent\",\"actor\":{\"id\":41898282,\"login\":\"github-actions[bot]\",\"display_login\":\"github-actions\",\"gravatar_id\":\"\",\"url\":\"https://api.github.com/users/github-actions[bot]\",\"avatar_url\":\"https://avatars.githubusercontent.com/u/41898282?\"},\"repo\":{\"id\":590693610,\"name\":\"Huguius/Huguius\",\"url\":\"https://api.github.com/repos/Huguius/Huguius\"},\"payload\":{\"repository_id\":590693610,\"push_id\":16859352424,\"size\":1,\"distinct_size\":1,\"ref\":\"refs/heads/output\",\"head\":\"c14bccc0a0ec54e531f764cf8073aaaf04312f4b\",\"before\":\"bedbccda7a8e05e8c1de10842ded6178550e8257\",\"commits\":[{\"sha\":\"c14bccc0a0ec54e531f764cf8073aaaf04312f4b\",\"author\":{\"email\":\"41898282+github-actions[bot]@users.noreply.github.com\",\"name\":\"github-actions[bot]\"},\"message\":\"Deploy to GitHub pages\",\"distinct\":true,\"url\":\"https://api.github.com/repos/Huguius/Huguius/commits/c14bccc0a0ec54e531f764cf8073aaaf04312f4b\"}]},\"public\":true,\"created_at\":\"2024-01-30T12:13:24Z\"},{\"id\":\"35238941531\",\"type\":\"PushEvent\",\"actor\":{\"id\":41898282,\"login\":\"github-actions[bot]\",\"display_login\":\"github-actions\",\"gravatar_id\":\"\",\"url\":\"https://api.github.com/users/github-actions[bot]\",\"avatar_url\":\"https://avatars.githubusercontent.com/u/41898282?\"},\"repo\":{\"id\":669268815,\"name\":\"WoXy-Sensei/WoXy-Sensei\",\"url\":\"https://api.github.com/repos/WoXy-Sensei/WoXy-Sensei\"},\"payload\":{\"repository_id\":669268815,\"push_id\":16859352402,\"size\":1,\"distinct_size\":1,\"ref\":\"refs/heads/output\",\"head\":\"e59e4400033b888aa960268052046a0712ff2bff\",\"before\":\"e694b08cdfb7a1a225dcdff7b9bfae1cb59313d4\",\"commits\":[{\"sha\":\"e59e4400033b888aa960268052046a0712ff2bff\",\"author\":{\"email\":\"41898282+github-actions[bot]@users.noreply.github.com\",\"name\":\"github-actions[bot]\"},\"message\":\"Deploy to GitHub pages\",\"distinct\":true,\"url\":\"https://api.github.com/repos/WoXy-Sensei/WoXy-Sensei/commits/e59e4400033b888aa960268052046a0712ff2bff\"}]},\"public\":true,\"created_at\":\"2024-01-30T12:13:24Z\"},{\"id\":\"35238941517\",\"type\":\"PushEvent\",\"actor\":{\"id\":41898282,\"login\":\"github-actions[bot]\",\"display_login\":\"github-actions\",\"gravatar_id\":\"\",\"url\":\"https://api.github.com/users/github-actions[bot]\",\"avatar_url\":\"https://avatars.githubusercontent.com/u/41898282?\"},\"repo\":{\"id\":671394836,\"name\":\"yening231/yeninggree\",\"url\":\"https://api.github.com/repos/yening231/yeninggree\"},\"payload\":{\"repository_id\":671394836,\"push_id\":16859352406,\"size\":1,\"distinct_size\":1,\"ref\":\"refs/heads/main\",\"head\":\"9e74fc63f804b6a8a78f41d7c0b7b17a60119d09\",\"before\":\"0b981bec2d7336509cf60171823ae17e848bb54d\",\"commits\":[{\"sha\":\"9e74fc63f804b6a8a78f41d7c0b7b17a60119d09\",\"author\":{\"email\":\"yening231@gmail.com\",\"name\":\"yening231\"},\"message\":\"a commit a day keeps your girlfriend away\",\"distinct\":true,\"url\":\"https://api.github.com/repos/yening231/yeninggree/commits/9e74fc63f804b6a8a78f41d7c0b7b17a60119d09\"}]},\"public\":true,\"created_at\":\"2024-01-30T12:13:24Z\"},{\"id\":\"35238941534\",\"type\":\"PushEvent\",\"actor\":{\"id\":41898282,\"login\":\"github-actions[bot]\",\"display_login\":\"github-actions\",\"gravatar_id\":\"\",\"url\":\"https://api.github.com/users/github-actions[bot]\",\"avatar_url\":\"https://avatars.githubusercontent.com/u/41898282?\"},\"repo\":{\"id\":469275932,\"name\":\"Sanyam-Maheshwari/Sanyam-Maheshwari\",\"url\":\"https://api.github.com/repos/Sanyam-Maheshwari/Sanyam-Maheshwari\"},\"payload\":{\"repository_id\":469275932,\"push_id\":16859352418,\"size\":1,\"distinct_size\":1,\"ref\":\"refs/heads/output\",\"head\":\"51659d44d2b5f95c49c4af6779fc31988819f74b\",\"before\":\"be187e63c1d0372ff408d4bbd8425a996dbfa417\",\"commits\":[{\"sha\":\"51659d44d2b5f95c49c4af6779fc31988819f74b\",\"author\":{\"email\":\"41898282+github-actions[bot]@users.noreply.github.com\",\"name\":\"github-actions[bot]\"},\"message\":\"Deploy to GitHub pages\",\"distinct\":true,\"url\":\"https://api.github.com/repos/Sanyam-Maheshwari/Sanyam-Maheshwari/commits/51659d44d2b5f95c49c4af6779fc31988819f74b\"}]},\"public\":true,\"created_at\":\"2024-01-30T12:13:24Z\"},{\"id\":\"35238941544\",\"type\":\"PushEvent\",\"actor\":{\"id\":157866528,\"login\":\"ttgds3asu\",\"display_login\":\"ttgds3asu\",\"gravatar_id\":\"\",\"url\":\"https://api.github.com/users/ttgds3asu\",\"avatar_url\":\"https://avatars.githubusercontent.com/u/157866528?\"},\"repo\":{\"id\":749938422,\"name\":\"yos124to2pholskia/repo16\",\"url\":\"https://api.github.com/repos/yos124to2pholskia/repo16\"},\"payload\":{\"repository_id\":749938422,\"push_id\":16859352429,\"size\":1,\"distinct_size\":1,\"ref\":\"refs/heads/main\",\"head\":\"4df99cf40406bc6b0aca70744845c736343d5180\",\"before\":\"db0e50f66e3a6a08e5f3725fe8635096d9168047\",\"commits\":[{\"sha\":\"4df99cf40406bc6b0aca70744845c736343d5180\",\"author\":{\"email\":\"you@example.com\",\"name\":\"Your Name\"},\"message\":\"Empty Commit\",\"distinct\":true,\"url\":\"https://api.github.com/repos/yos124to2pholskia/repo16/commits/4df99cf40406bc6b0aca70744845c736343d5180\"}]},\"public\":true,\"created_at\":\"2024-01-30T12:13:24Z\",\"org\":{\"id\":157838041,\"login\":\"yos124to2pholskia\",\"gravatar_id\":\"\",\"url\":\"https://api.github.com/orgs/yos124to2pholskia\",\"avatar_url\":\"https://avatars.githubusercontent.com/u/157838041?\"}},{\"id\":\"35238941523\",\"type\":\"PushEvent\",\"actor\":{\"id\":41898282,\"login\":\"github-actions[bot]\",\"display_login\":\"github-actions\",\"gravatar_id\":\"\",\"url\":\"https://api.github.com/users/github-actions[bot]\",\"avatar_url\":\"https://avatars.githubusercontent.com/u/41898282?\"},\"repo\":{\"id\":74377316,\"name\":\"JaCraig/FileCurator\",\"url\":\"https://api.github.com/repos/JaCraig/FileCurator\"},\"payload\":{\"repository_id\":74377316,\"push_id\":16859352412,\"size\":1,\"distinct_size\":1,\"ref\":\"refs/heads/master\",\"head\":\"d32262a4c199e26224fd5e4dab9fb32dad28185d\",\"before\":\"a86bce211eb3ee3d34ef4fc0bffb019ebfd1c75f\",\"commits\":[{\"sha\":\"d32262a4c199e26224fd5e4dab9fb32dad28185d\",\"author\":{\"email\":\"JaCraig@users.noreply.github.com\",\"name\":\"James Craig\"},\"message\":\"chore(release): 4.0.50\",\"distinct\":true,\"url\":\"https://api.github.com/repos/JaCraig/FileCurator/commits/d32262a4c199e26224fd5e4dab9fb32dad28185d\"}]},\"public\":true,\"created_at\":\"2024-01-30T12:13:24Z\"},{\"id\":\"35238941515\",\"type\":\"PushEvent\",\"actor\":{\"id\":20365169,\"login\":\"lyswhut\",\"display_login\":\"lyswhut\",\"gravatar_id\":\"\",\"url\":\"https://api.github.com/users/lyswhut\",\"avatar_url\":\"https://avatars.githubusercontent.com/u/20365169?\"},\"repo\":{\"id\":496873231,\"name\":\"lyswhut/lx-music-doc\",\"url\":\"https://api.github.com/repos/lyswhut/lx-music-doc\"},\"payload\":{\"repository_id\":496873231,\"push_id\":16859352411,\"size\":1,\"distinct_size\":1,\"ref\":\"refs/heads/master\",\"head\":\"32408bcc136b6f8fce0467e434268c333ccb1c37\",\"before\":\"740c28987d0513dca92d227cc5bae038e4e498ef\",\"commits\":[{\"sha\":\"32408bcc136b6f8fce0467e434268c333ccb1c37\",\"author\":{\"email\":\"lyswhut@qq.com\",\"name\":\"lyswhut\"},\"message\":\"添加local说明\",\"distinct\":true,\"url\":\"https://api.github.com/repos/lyswhut/lx-music-doc/commits/32408bcc136b6f8fce0467e434268c333ccb1c37\"}]},\"public\":true,\"created_at\":\"2024-01-30T12:13:24Z\"},{\"id\":\"35238941552\",\"type\":\"PushEvent\",\"actor\":{\"id\":108680016,\"login\":\"mirai-MIC\",\"display_login\":\"mirai-MIC\",\"gravatar_id\":\"\",\"url\":\"https://api.github.com/users/mirai-MIC\",\"avatar_url\":\"https://avatars.githubusercontent.com/u/108680016?\"},\"repo\":{\"id\":745362260,\"name\":\"mirai-MIC/opqbot-kt\",\"url\":\"https://api.github.com/repos/mirai-MIC/opqbot-kt\"},\"payload\":{\"repository_id\":745362260,\"push_id\":16859352440,\"size\":1,\"distinct_size\":1,\"ref\":\"refs/heads/master\",\"head\":\"2ae030a77b252f7edb1954f70f5158fc5a15ae00\",\"before\":\"c5b25da5ef8ddd43da8d8a8b8e5d069d26f7a350\",\"commits\":[{\"sha\":\"2ae030a77b252f7edb1954f70f5158fc5a15ae00\",\"author\":{\"email\":\"3092179918@qq.com\",\"name\":\"mi\"},\"message\":\"Optimized bugs and added invitation event implementation\",\"distinct\":true,\"url\":\"https://api.github.com/repos/mirai-MIC/opqbot-kt/commits/2ae030a77b252f7edb1954f70f5158fc5a15ae00\"}]},\"public\":true,\"created_at\":\"2024-01-30T12:13:24Z\"},{\"id\":\"35238941522\",\"type\":\"PushEvent\",\"actor\":{\"id\":122810756,\"login\":\"HenryAnyiam\",\"display_login\":\"HenryAnyiam\",\"gravatar_id\":\"\",\"url\":\"https://api.github.com/users/HenryAnyiam\",\"avatar_url\":\"https://avatars.githubusercontent.com/u/122810756?\"},\"repo\":{\"id\":724613438,\"name\":\"HenryAnyiam/alx-backend-javascript\",\"url\":\"https://api.github.com/repos/HenryAnyiam/alx-backend-javascript\"},\"payload\":{\"repository_id\":724613438,\"push_id\":16859352425,\"size\":1,\"distinct_size\":1,\"ref\":\"refs/heads/master\",\"head\":\"79d88068a2c4efa611d7be6aed20719b202965a6\",\"before\":\"f9ede11a6d9407ae09b0b85f5d4d28ee998b667e\",\"commits\":[{\"sha\":\"79d88068a2c4efa611d7be6aed20719b202965a6\",\"author\":{\"email\":\"anyiamhenry7@gmail.com\",\"name\":\"HenryAnyiam\"},\"message\":\"read file sync\",\"distinct\":true,\"url\":\"https://api.github.com/repos/HenryAnyiam/alx-backend-javascript/commits/79d88068a2c4efa611d7be6aed20719b202965a6\"}]},\"public\":true,\"created_at\":\"2024-01-30T12:13:24Z\"},{\"id\":\"35238941504\",\"type\":\"WatchEvent\",\"actor\":{\"id\":88620602,\"login\":\"eriqneo\",\"display_login\":\"eriqneo\",\"gravatar_id\":\"\",\"url\":\"https://api.github.com/users/eriqneo\",\"avatar_url\":\"https://avatars.githubusercontent.com/u/88620602?\"},\"repo\":{\"id\":742589450,\"name\":\"eriqneo/Football-Analysis\",\"url\":\"https://api.github.com/repos/eriqneo/Football-Analysis\"},\"payload\":{\"action\":\"started\"},\"public\":true,\"created_at\":\"2024-01-30T12:13:24Z\"},{\"id\":\"35238941513\",\"type\":\"PullRequestReviewEvent\",\"actor\":{\"id\":106857775,\"login\":\"Jaeework\",\"display_login\":\"Jaeework\",\"gravatar_id\":\"\",\"url\":\"https://api.github.com/users/Jaeework\",\"avatar_url\":\"https://avatars.githubusercontent.com/u/106857775?\"},\"repo\":{\"id\":709824095,\"name\":\"Jaeework/fastcampus-project-board\",\"url\":\"https://api.github.com/repos/Jaeework/fastcampus-project-board\"},\"payload\":{\"action\":\"created\",\"review\":{\"id\":1851034604,\"node_id\":\"PRR_kwDOKk8OX85uVIvs\",\"user\":{\"login\":\"Jaeework\",\"id\":106857775,\"node_id\":\"U_kgDOBl6FLw\",\"avatar_url\":\"https://avatars.githubusercontent.com/u/106857775?v=4\",\"gravatar_id\":\"\",\"url\":\"https://api.github.com/users/Jaeework\",\"html_url\":\"https://github.com/Jaeework\",\"followers_url\":\"https://api.github.com/users/Jaeework/followers\",\"following_url\":\"https://api.github.com/users/Jaeework/following{/other_user}\",\"gists_url\":\"https://api.github.com/users/Jaeework/gists{/gist_id}\",\"starred_url\":\"https://api.github.com/users/Jaeework/starred{/owner}{/repo}\",\"subscriptions_url\":\"https://api.github.com/users/Jaeework/subscriptions\",\"organizations_url\":\"https://api.github.com/users/Jaeework/orgs\",\"repos_url\":\"https://api.github.com/users/Jaeework/repos\",\"events_url\":\"https://api.github.com/users/Jaeework/events{/privacy}\",\"received_events_url\":\"https://api.github.com/users/Jaeework/received_events\",\"type\":\"User\",\"site_admin\":false},\"body\":\"👍 \",\"commit_id\":\"57af194e7689c115ae59e29945e621487e56b075\",\"submitted_at\":\"2024-01-30T12:13:23Z\",\"state\":\"commented\",\"html_url\":\"https://github.com/Jaeework/fastcampus-project-board/pull/32#pullrequestreview-1851034604\",\"pull_request_url\":\"https://api.github.com/repos/Jaeework/fastcampus-project-board/pulls/32\",\"author_association\":\"OWNER\",\"_links\":{\"html\":{\"href\":\"https://github.com/Jaeework/fastcampus-project-board/pull/32#pullrequestreview-1851034604\"},\"pull_request\":{\"href\":\"https://api.github.com/repos/Jaeework/fastcampus-project-board/pulls/32\"}}},\"pull_request\":{\"url\":\"https://api.github.com/repos/Jaeework/fastcampus-project-board/pulls/32\",\"id\":1701946534,\"node_id\":\"PR_kwDOKk8OX85lcaSm\",\"html_url\":\"https://github.com/Jaeework/fastcampus-project-board/pull/32\",\"diff_url\":\"https://github.com/Jaeework/fastcampus-project-board/pull/32.diff\",\"patch_url\":\"https://github.com/Jaeework/fastcampus-project-board/pull/32.patch\",\"issue_url\":\"https://api.github.com/repos/Jaeework/fastcampus-project-board/issues/32\",\"number\":32,\"state\":\"open\",\"locked\":false,\"title\":\"게시판 검색 구현\",\"user\":{\"login\":\"Jaeework\",\"id\":106857775,\"node_id\":\"U_kgDOBl6FLw\",\"avatar_url\":\"https://avatars.githubusercontent.com/u/106857775?v=4\",\"gravatar_id\":\"\",\"url\":\"https://api.github.com/users/Jaeework\",\"html_url\":\"https://github.com/Jaeework\",\"followers_url\":\"https://api.github.com/users/Jaeework/followers\",\"following_url\":\"https://api.github.com/users/Jaeework/following{/other_user}\",\"gists_url\":\"https://api.github.com/users/Jaeework/gists{/gist_id}\",\"starred_url\":\"https://api.github.com/users/Jaeework/starred{/owner}{/repo}\",\"subscriptions_url\":\"https://api.github.com/users/Jaeework/subscriptions\",\"organizations_url\":\"https://api.github.com/users/Jaeework/orgs\",\"repos_url\":\"https://api.github.com/users/Jaeework/repos\",\"events_url\":\"https://api.github.com/users/Jaeework/events{/privacy}\",\"received_events_url\":\"https://api.github.com/users/Jaeework/received_events\",\"type\":\"User\",\"site_admin\":false},\"body\":\"게시판에서 게시글을 검색하는 기능을 구현하고, 게시판 페이지 검색바에 연동함\\\\r\\\\n정렬, 페이징과 연결되게끔 구현\\\\r\\\\n\\\\r\\\\nThis closes #30 \",\"created_at\":\"2024-01-30T12:12:36Z\",\"updated_at\":\"2024-01-30T12:13:23Z\",\"closed_at\":null,\"merged_at\":null,\"merge_commit_sha\":\"20856b50ad2323131984f921cc31cbf6ad539885\",\"assignee\":{\"login\":\"Jaeework\",\"id\":106857775,\"node_id\":\"U_kgDOBl6FLw\",\"avatar_url\":\"https://avatars.githubusercontent.com/u/106857775?v=4\",\"gravatar_id\":\"\",\"url\":\"https://api.github.com/users/Jaeework\",\"html_url\":\"https://github.com/Jaeework\",\"followers_url\":\"https://api.github.com/users/Jaeework/followers\",\"following_url\":\"https://api.github.com/users/Jaeework/following{/other_user}\",\"gists_url\":\"https://api.github.com/users/Jaeework/gists{/gist_id}\",\"starred_url\":\"https://api.github.com/users/Jaeework/starred{/owner}{/repo}\",\"subscriptions_url\":\"https://api.github.com/users/Jaeework/subscriptions\",\"organizations_url\":\"https://api.github.com/users/Jaeework/orgs\",\"repos_url\":\"https://api.github.com/users/Jaeework/repos\",\"events_url\":\"https://api.github.com/users/Jaeework/events{/privacy}\",\"received_events_url\":\"https://api.github.com/users/Jaeework/received_events\",\"type\":\"User\",\"site_admin\":false},\"assignees\":[{\"login\":\"Jaeework\",\"id\":106857775,\"node_id\":\"U_kgDOBl6FLw\",\"avatar_url\":\"https://avatars.githubusercontent.com/u/106857775?v=4\",\"gravatar_id\":\"\",\"url\":\"https://api.github.com/users/Jaeework\",\"html_url\":\"https://github.com/Jaeework\",\"followers_url\":\"https://api.github.com/users/Jaeework/followers\",\"following_url\":\"https://api.github.com/users/Jaeework/following{/other_user}\",\"gists_url\":\"https://api.github.com/users/Jaeework/gists{/gist_id}\",\"starred_url\":\"https://api.github.com/users/Jaeework/starred{/owner}{/repo}\",\"subscriptions_url\":\"https://api.github.com/users/Jaeework/subscriptions\",\"organizations_url\":\"https://api.github.com/users/Jaeework/orgs\",\"repos_url\":\"https://api.github.com/users/Jaeework/repos\",\"events_url\":\"https://api.github.com/users/Jaeework/events{/privacy}\",\"received_events_url\":\"https://api.github.com/users/Jaeework/received_events\",\"type\":\"User\",\"site_admin\":false}],\"requested_reviewers\":[],\"requested_teams\":[],\"labels\":[{\"id\":6128046382,\"node_id\":\"LA_kwDOKk8OX88AAAABbUKRLg\",\"url\":\"https://api.github.com/repos/Jaeework/fastcampus-project-board/labels/enhancement\",\"name\":\"enhancement\",\"color\":\"a2eeef\",\"default\":true,\"description\":\"New feature or request\"}],\"milestone\":{\"url\":\"https://api.github.com/repos/Jaeework/fastcampus-project-board/milestones/1\",\"html_url\":\"https://github.com/Jaeework/fastcampus-project-board/milestone/1\",\"labels_url\":\"https://api.github.com/repos/Jaeework/fastcampus-project-board/milestones/1/labels\",\"id\":10105135,\"node_id\":\"MI_kwDOKk8OX84AmjEv\",\"number\":1,\"title\":\"게시판 서비스 만들기\",\"description\":\"게시판 서비스를 만든다.\",\"creator\":{\"login\":\"Jaeework\",\"id\":106857775,\"node_id\":\"U_kgDOBl6FLw\",\"avatar_url\":\"https://avatars.githubusercontent.com/u/106857775?v=4\",\"gravatar_id\":\"\",\"url\":\"https://api.github.com/users/Jaeework\",\"html_url\":\"https://github.com/Jaeework\",\"followers_url\":\"https://api.github.com/users/Jaeework/followers\",\"following_url\":\"https://api.github.com/users/Jaeework/following{/other_user}\",\"gists_url\":\"https://api.github.com/users/Jaeework/gists{/gist_id}\",\"starred_url\":\"https://api.github.com/users/Jaeework/starred{/owner}{/repo}\",\"subscriptions_url\":\"https://api.github.com/users/Jaeework/subscriptions\",\"organizations_url\":\"https://api.github.com/users/Jaeework/orgs\",\"repos_url\":\"https://api.github.com/users/Jaeework/repos\",\"events_url\":\"https://api.github.com/users/Jaeework/events{/privacy}\",\"received_events_url\":\"https://api.github.com/users/Jaeework/received_events\",\"type\":\"User\",\"site_admin\":false},\"open_issues\":3,\"closed_issues\":29,\"state\":\"open\",\"created_at\":\"2023-10-25T13:27:09Z\",\"updated_at\":\"2024-01-30T12:12:36Z\",\"due_on\":\"2023-11-25T08:00:00Z\",\"closed_at\":null},\"draft\":false,\"commits_url\":\"https://api.github.com/repos/Jaeework/fastcampus-project-board/pulls/32/commits\",\"review_comments_url\":\"https://api.github.com/repos/Jaeework/fastcampus-project-board/pulls/32/comments\",\"review_comment_url\":\"https://api.github.com/repos/Jaeework/fastcampus-project-board/pulls/comments{/number}\",\"comments_url\":\"https://api.github.com/repos/Jaeework/fastcampus-project-board/issues/32/comments\",\"statuses_url\":\"https://api.github.com/repos/Jaeework/fastcampus-project-board/statuses/57af194e7689c115ae59e29945e621487e56b075\",\"head\":{\"label\":\"Jaeework:#30-search\",\"ref\":\"#30-search\",\"sha\":\"57af194e7689c115ae59e29945e621487e56b075\",\"user\":{\"login\":\"Jaeework\",\"id\":106857775,\"node_id\":\"U_kgDOBl6FLw\",\"avatar_url\":\"https://avatars.githubusercontent.com/u/106857775?v=4\",\"gravatar_id\":\"\",\"url\":\"https://api.github.com/users/Jaeework\",\"html_url\":\"https://github.com/Jaeework\",\"followers_url\":\"https://api.github.com/users/Jaeework/followers\",\"following_url\":\"https://api.github.com/users/Jaeework/following{/other_user}\",\"gists_url\":\"https://api.github.com/users/Jaeework/gists{/gist_id}\",\"starred_url\":\"https://api.github.com/users/Jaeework/starred{/owner}{/repo}\",\"subscriptions_url\":\"https://api.github.com/users/Jaeework/subscriptions\",\"organizations_url\":\"https://api.github.com/users/Jaeework/orgs\",\"repos_url\":\"https://api.github.com/users/Jaeework/repos\",\"events_url\":\"https://api.github.com/users/Jaeework/events{/privacy}\",\"received_events_url\":\"https://api.github.com/users/Jaeework/received_events\",\"type\":\"User\",\"site_admin\":false},\"repo\":{\"id\":709824095,\"node_id\":\"R_kgDOKk8OXw\",\"name\":\"fastcampus-project-board\",\"full_name\":\"Jaeework/fastcampus-project-board\",\"private\":false,\"owner\":{\"login\":\"Jaeework\",\"id\":106857775,\"node_id\":\"U_kgDOBl6FLw\",\"avatar_url\":\"https://avatars.githubusercontent.com/u/106857775?v=4\",\"gravatar_id\":\"\",\"url\":\"https://api.github.com/users/Jaeework\",\"html_url\":\"https://github.com/Jaeework\",\"followers_url\":\"https://api.github.com/users/Jaeework/followers\",\"following_url\":\"https://api.github.com/users/Jaeework/following{/other_user}\",\"gists_url\":\"https://api.github.com/users/Jaeework/gists{/gist_id}\",\"starred_url\":\"https://api.github.com/users/Jaeework/starred{/owner}{/repo}\",\"subscriptions_url\":\"https://api.github.com/users/Jaeework/subscriptions\",\"organizations_url\":\"https://api.github.com/users/Jaeework/orgs\",\"repos_url\":\"https://api.github.com/users/Jaeework/repos\",\"events_url\":\"https://api.github.com/users/Jaeework/events{/privacy}\",\"received_events_url\":\"https://api.github.com/users/Jaeework/received_events\",\"type\":\"User\",\"site_admin\":false},\"html_url\":\"https://github.com/Jaeework/fastcampus-project-board\",\"description\":\"패스트캠퍼스 게시판 만들기 프로젝트. 자바 + 스프링부트 관련 기술들을 공부\",\"fork\":false,\"url\":\"https://api.github.com/repos/Jaeework/fastcampus-project-board\",\"forks_url\":\"https://api.github.com/repos/Jaeework/fastcampus-project-board/forks\",\"keys_url\":\"https://api.github.com/repos/Jaeework/fastcampus-project-board/keys{/key_id}\",\"collaborators_url\":\"https://api.github.com/repos/Jaeework/fastcampus-project-board/collaborators{/collaborator}\",\"teams_url\":\"https://api.github.com/repos/Jaeework/fastcampus-project-board/teams\",\"hooks_url\":\"https://api.github.com/repos/Jaeework/fastcampus-project-board/hooks\",\"issue_events_url\":\"https://api.github.com/repos/Jaeework/fastcampus-project-board/issues/events{/number}\",\"events_url\":\"https://api.github.com/repos/Jaeework/fastcampus-project-board/events\",\"assignees_url\":\"https://api.github.com/repos/Jaeework/fastcampus-project-board/assignees{/user}\",\"branches_url\":\"https://api.github.com/repos/Jaeework/fastcampus-project-board/branches{/branch}\",\"tags_url\":\"https://api.github.com/repos/Jaeework/fastcampus-project-board/tags\",\"blobs_url\":\"https://api.github.com/repos/Jaeework/fastcampus-project-board/git/blobs{/sha}\",\"git_tags_url\":\"https://api.github.com/repos/Jaeework/fastcampus-project-board/git/tags{/sha}\",\"git_refs_url\":\"https://api.github.com/repos/Jaeework/fastcampus-project-board/git/refs{/sha}\",\"trees_url\":\"https://api.github.com/repos/Jaeework/fastcampus-project-board/git/trees{/sha}\",\"statuses_url\":\"https://api.github.com/repos/Jaeework/fastcampus-project-board/statuses/{sha}\",\"languages_url\":\"https://api.github.com/repos/Jaeework/fastcampus-project-board/languages\",\"stargazers_url\":\"https://api.github.com/repos/Jaeework/fastcampus-project-board/stargazers\",\"contributors_url\":\"https://api.github.com/repos/Jaeework/fastcampus-project-board/contributors\",\"subscribers_url\":\"https://api.github.com/repos/Jaeework/fastcampus-project-board/subscribers\",\"subscription_url\":\"https://api.github.com/repos/Jaeework/fastcampus-project-board/subscription\",\"commits_url\":\"https://api.github.com/repos/Jaeework/fastcampus-project-board/commits{/sha}\",\"git_commits_url\":\"https://api.github.com/repos/Jaeework/fastcampus-project-board/git/commits{/sha}\",\"comments_url\":\"https://api.github.com/repos/Jaeework/fastcampus-project-board/comments{/number}\",\"issue_comment_url\":\"https://api.github.com/repos/Jaeework/fastcampus-project-board/issues/comments{/number}\",\"contents_url\":\"https://api.github.com/repos/Jaeework/fastcampus-project-board/contents/{+path}\",\"compare_url\":\"https://api.github.com/repos/Jaeework/fastcampus-project-board/compare/{base}...{head}\",\"merges_url\":\"https://api.github.com/repos/Jaeework/fastcampus-project-board/merges\",\"archive_url\":\"https://api.github.com/repos/Jaeework/fastcampus-project-board/{archive_format}{/ref}\",\"downloads_url\":\"https://api.github.com/repos/Jaeework/fastcampus-project-board/downloads\",\"issues_url\":\"https://api.github.com/repos/Jaeework/fastcampus-project-board/issues{/number}\",\"pulls_url\":\"https://api.github.com/repos/Jaeework/fastcampus-project-board/pulls{/number}\",\"milestones_url\":\"https://api.github.com/repos/Jaeework/fastcampus-project-board/milestones{/number}\",\"notifications_url\":\"https://api.github.com/repos/Jaeework/fastcampus-project-board/notifications{?since,all,participating}\",\"labels_url\":\"https://api.github.com/repos/Jaeework/fastcampus-project-board/labels{/name}\",\"releases_url\":\"https://api.github.com/repos/Jaeework/fastcampus-project-board/releases{/id}\",\"deployments_url\":\"https://api.github.com/repos/Jaeework/fastcampus-project-board/deployments\",\"created_at\":\"2023-10-25T13:23:13Z\",\"updated_at\":\"2023-11-06T15:03:20Z\",\"pushed_at\":\"2024-01-30T12:12:36Z\",\"git_url\":\"git://github.com/Jaeework/fastcampus-project-board.git\",\"ssh_url\":\"git@github.com:Jaeework/fastcampus-project-board.git\",\"clone_url\":\"https://github.com/Jaeework/fastcampus-project-board.git\",\"svn_url\":\"https://github.com/Jaeework/fastcampus-project-board\",\"homepage\":null,\"size\":192,\"stargazers_count\":0,\"watchers_count\":0,\"language\":\"Java\",\"has_issues\":true,\"has_projects\":true,\"has_downloads\":true,\"has_wiki\":true,\"has_pages\":false,\"has_discussions\":true,\"forks_count\":0,\"mirror_url\":null,\"archived\":false,\"disabled\":false,\"open_issues_count\":3,\"license\":null,\"allow_forking\":true,\"is_template\":false,\"web_commit_signoff_required\":false,\"topics\":[],\"visibility\":\"public\",\"forks\":0,\"open_issues\":3,\"watchers\":0,\"default_branch\":\"main\"}},\"base\":{\"label\":\"Jaeework:main\",\"ref\":\"main\",\"sha\":\"e2574fcb946fbd117735b27b77df744a76905511\",\"user\":{\"login\":\"Jaeework\",\"id\":106857775,\"node_id\":\"U_kgDOBl6FLw\",\"avatar_url\":\"https://avatars.githubusercontent.com/u/106857775?v=4\",\"gravatar_id\":\"\",\"url\":\"https://api.github.com/users/Jaeework\",\"html_url\":\"https://github.com/Jaeework\",\"followers_url\":\"https://api.github.com/users/Jaeework/followers\",\"following_url\":\"https://api.github.com/users/Jaeework/following{/other_user}\",\"gists_url\":\"https://api.github.com/users/Jaeework/gists{/gist_id}\",\"starred_url\":\"https://api.github.com/users/Jaeework/starred{/owner}{/repo}\",\"subscriptions_url\":\"https://api.github.com/users/Jaeework/subscriptions\",\"organizations_url\":\"https://api.github.com/users/Jaeework/orgs\",\"repos_url\":\"https://api.github.com/users/Jaeework/repos\",\"events_url\":\"https://api.github.com/users/Jaeework/events{/privacy}\",\"received_events_url\":\"https://api.github.com/users/Jaeework/received_events\",\"type\":\"User\",\"site_admin\":false},\"repo\":{\"id\":709824095,\"node_id\":\"R_kgDOKk8OXw\",\"name\":\"fastcampus-project-board\",\"full_name\":\"Jaeework/fastcampus-project-board\",\"private\":false,\"owner\":{\"login\":\"Jaeework\",\"id\":106857775,\"node_id\":\"U_kgDOBl6FLw\",\"avatar_url\":\"https://avatars.githubusercontent.com/u/106857775?v=4\",\"gravatar_id\":\"\",\"url\":\"https://api.github.com/users/Jaeework\",\"html_url\":\"https://github.com/Jaeework\",\"followers_url\":\"https://api.github.com/users/Jaeework/followers\",\"following_url\":\"https://api.github.com/users/Jaeework/following{/other_user}\",\"gists_url\":\"https://api.github.com/users/Jaeework/gists{/gist_id}\",\"starred_url\":\"https://api.github.com/users/Jaeework/starred{/owner}{/repo}\",\"subscriptions_url\":\"https://api.github.com/users/Jaeework/subscriptions\",\"organizations_url\":\"https://api.github.com/users/Jaeework/orgs\",\"repos_url\":\"https://api.github.com/users/Jaeework/repos\",\"events_url\":\"https://api.github.com/users/Jaeework/events{/privacy}\",\"received_events_url\":\"https://api.github.com/users/Jaeework/received_events\",\"type\":\"User\",\"site_admin\":false},\"html_url\":\"https://github.com/Jaeework/fastcampus-project-board\",\"description\":\"패스트캠퍼스 게시판 만들기 프로젝트. 자바 + 스프링부트 관련 기술들을 공부\",\"fork\":false,\"url\":\"https://api.github.com/repos/Jaeework/fastcampus-project-board\",\"forks_url\":\"https://api.github.com/repos/Jaeework/fastcampus-project-board/forks\",\"keys_url\":\"https://api.github.com/repos/Jaeework/fastcampus-project-board/keys{/key_id}\",\"collaborators_url\":\"https://api.github.com/repos/Jaeework/fastcampus-project-board/collaborators{/collaborator}\",\"teams_url\":\"https://api.github.com/repos/Jaeework/fastcampus-project-board/teams\",\"hooks_url\":\"https://api.github.com/repos/Jaeework/fastcampus-project-board/hooks\",\"issue_events_url\":\"https://api.github.com/repos/Jaeework/fastcampus-project-board/issues/events{/number}\",\"events_url\":\"https://api.github.com/repos/Jaeework/fastcampus-project-board/events\",\"assignees_url\":\"https://api.github.com/repos/Jaeework/fastcampus-project-board/assignees{/user}\",\"branches_url\":\"https://api.github.com/repos/Jaeework/fastcampus-project-board/branches{/branch}\",\"tags_url\":\"https://api.github.com/repos/Jaeework/fastcampus-project-board/tags\",\"blobs_url\":\"https://api.github.com/repos/Jaeework/fastcampus-project-board/git/blobs{/sha}\",\"git_tags_url\":\"https://api.github.com/repos/Jaeework/fastcampus-project-board/git/tags{/sha}\",\"git_refs_url\":\"https://api.github.com/repos/Jaeework/fastcampus-project-board/git/refs{/sha}\",\"trees_url\":\"https://api.github.com/repos/Jaeework/fastcampus-project-board/git/trees{/sha}\",\"statuses_url\":\"https://api.github.com/repos/Jaeework/fastcampus-project-board/statuses/{sha}\",\"languages_url\":\"https://api.github.com/repos/Jaeework/fastcampus-project-board/languages\",\"stargazers_url\":\"https://api.github.com/repos/Jaeework/fastcampus-project-board/stargazers\",\"contributors_url\":\"https://api.github.com/repos/Jaeework/fastcampus-project-board/contributors\",\"subscribers_url\":\"https://api.github.com/repos/Jaeework/fastcampus-project-board/subscribers\",\"subscription_url\":\"https://api.github.com/repos/Jaeework/fastcampus-project-board/subscription\",\"commits_url\":\"https://api.github.com/repos/Jaeework/fastcampus-project-board/commits{/sha}\",\"git_commits_url\":\"https://api.github.com/repos/Jaeework/fastcampus-project-board/git/commits{/sha}\",\"comments_url\":\"https://api.github.com/repos/Jaeework/fastcampus-project-board/comments{/number}\",\"issue_comment_url\":\"https://api.github.com/repos/Jaeework/fastcampus-project-board/issues/comments{/number}\",\"contents_url\":\"https://api.github.com/repos/Jaeework/fastcampus-project-board/contents/{+path}\",\"compare_url\":\"https://api.github.com/repos/Jaeework/fastcampus-project-board/compare/{base}...{head}\",\"merges_url\":\"https://api.github.com/repos/Jaeework/fastcampus-project-board/merges\",\"archive_url\":\"https://api.github.com/repos/Jaeework/fastcampus-project-board/{archive_format}{/ref}\",\"downloads_url\":\"https://api.github.com/repos/Jaeework/fastcampus-project-board/downloads\",\"issues_url\":\"https://api.github.com/repos/Jaeework/fastcampus-project-board/issues{/number}\",\"pulls_url\":\"https://api.github.com/repos/Jaeework/fastcampus-project-board/pulls{/number}\",\"milestones_url\":\"https://api.github.com/repos/Jaeework/fastcampus-project-board/milestones{/number}\",\"notifications_url\":\"https://api.github.com/repos/Jaeework/fastcampus-project-board/notifications{?since,all,participating}\",\"labels_url\":\"https://api.github.com/repos/Jaeework/fastcampus-project-board/labels{/name}\",\"releases_url\":\"https://api.github.com/repos/Jaeework/fastcampus-project-board/releases{/id}\",\"deployments_url\":\"https://api.github.com/repos/Jaeework/fastcampus-project-board/deployments\",\"created_at\":\"2023-10-25T13:23:13Z\",\"updated_at\":\"2023-11-06T15:03:20Z\",\"pushed_at\":\"2024-01-30T12:12:36Z\",\"git_url\":\"git://github.com/Jaeework/fastcampus-project-board.git\",\"ssh_url\":\"git@github.com:Jaeework/fastcampus-project-board.git\",\"clone_url\":\"https://github.com/Jaeework/fastcampus-project-board.git\",\"svn_url\":\"https://github.com/Jaeework/fastcampus-project-board\",\"homepage\":null,\"size\":192,\"stargazers_count\":0,\"watchers_count\":0,\"language\":\"Java\",\"has_issues\":true,\"has_projects\":true,\"has_downloads\":true,\"has_wiki\":true,\"has_pages\":false,\"has_discussions\":true,\"forks_count\":0,\"mirror_url\":null,\"archived\":false,\"disabled\":false,\"open_issues_count\":3,\"license\":null,\"allow_forking\":true,\"is_template\":false,\"web_commit_signoff_required\":false,\"topics\":[],\"visibility\":\"public\",\"forks\":0,\"open_issues\":3,\"watchers\":0,\"default_branch\":\"main\"}},\"_links\":{\"self\":{\"href\":\"https://api.github.com/repos/Jaeework/fastcampus-project-board/pulls/32\"},\"html\":{\"href\":\"https://github.com/Jaeework/fastcampus-project-board/pull/32\"},\"issue\":{\"href\":\"https://api.github.com/repos/Jaeework/fastcampus-project-board/issues/32\"},\"comments\":{\"href\":\"https://api.github.com/repos/Jaeework/fastcampus-project-board/issues/32/comments\"},\"review_comments\":{\"href\":\"https://api.github.com/repos/Jaeework/fastcampus-project-board/pulls/32/comments\"},\"review_comment\":{\"href\":\"https://api.github.com/repos/Jaeework/fastcampus-project-board/pulls/comments{/number}\"},\"commits\":{\"href\":\"https://api.github.com/repos/Jaeework/fastcampus-project-board/pulls/32/commits\"},\"statuses\":{\"href\":\"https://api.github.com/repos/Jaeework/fastcampus-project-board/statuses/57af194e7689c115ae59e29945e621487e56b075\"}},\"author_association\":\"OWNER\",\"auto_merge\":null,\"active_lock_reason\":null}},\"public\":true,\"created_at\":\"2024-01-30T12:13:24Z\"},{\"id\":\"35238941408\",\"type\":\"PushEvent\",\"actor\":{\"id\":41898282,\"login\":\"github-actions[bot]\",\"display_login\":\"github-actions\",\"gravatar_id\":\"\",\"url\":\"https://api.github.com/users/github-actions[bot]\",\"avatar_url\":\"https://avatars.githubusercontent.com/u/41898282?\"},\"repo\":{\"id\":643009454,\"name\":\"VitorNuness/VitorNuness\",\"url\":\"https://api.github.com/repos/VitorNuness/VitorNuness\"},\"payload\":{\"repository_id\":643009454,\"push_id\":16859352349,\"size\":1,\"distinct_size\":1,\"ref\":\"refs/heads/output\",\"head\":\"c14bccc0a0ec54e531f764cf8073aaaf04312f4b\",\"before\":\"4d9278b13c67fad1e37eb802bf3f39d4b0118536\",\"commits\":[{\"sha\":\"c14bccc0a0ec54e531f764cf8073aaaf04312f4b\",\"author\":{\"email\":\"41898282+github-actions[bot]@users.noreply.github.com\",\"name\":\"github-actions[bot]\"},\"message\":\"Deploy to GitHub pages\",\"distinct\":true,\"url\":\"https://api.github.com/repos/VitorNuness/VitorNuness/commits/c14bccc0a0ec54e531f764cf8073aaaf04312f4b\"}]},\"public\":true,\"created_at\":\"2024-01-30T12:13:24Z\"},{\"id\":\"35238941416\",\"type\":\"PushEvent\",\"actor\":{\"id\":41898282,\"login\":\"github-actions[bot]\",\"display_login\":\"github-actions\",\"gravatar_id\":\"\",\"url\":\"https://api.github.com/users/github-actions[bot]\",\"avatar_url\":\"https://avatars.githubusercontent.com/u/41898282?\"},\"repo\":{\"id\":457460276,\"name\":\"Wawrzenieck/Wawrzenieck\",\"url\":\"https://api.github.com/repos/Wawrzenieck/Wawrzenieck\"},\"payload\":{\"repository_id\":457460276,\"push_id\":16859352363,\"size\":1,\"distinct_size\":1,\"ref\":\"refs/heads/output\",\"head\":\"c14bccc0a0ec54e531f764cf8073aaaf04312f4b\",\"before\":\"f9130b45e8f4805f07274e40d2f45904e13ee539\",\"commits\":[{\"sha\":\"c14bccc0a0ec54e531f764cf8073aaaf04312f4b\",\"author\":{\"email\":\"41898282+github-actions[bot]@users.noreply.github.com\",\"name\":\"github-actions[bot]\"},\"message\":\"Deploy to GitHub pages\",\"distinct\":true,\"url\":\"https://api.github.com/repos/Wawrzenieck/Wawrzenieck/commits/c14bccc0a0ec54e531f764cf8073aaaf04312f4b\"}]},\"public\":true,\"created_at\":\"2024-01-30T12:13:24Z\"},{\"id\":\"35238941501\",\"type\":\"PushEvent\",\"actor\":{\"id\":41898282,\"login\":\"github-actions[bot]\",\"display_login\":\"github-actions\",\"gravatar_id\":\"\",\"url\":\"https://api.github.com/users/github-actions[bot]\",\"avatar_url\":\"https://avatars.githubusercontent.com/u/41898282?\"},\"repo\":{\"id\":444465086,\"name\":\"Yahid-Basha/Yahid-Basha\",\"url\":\"https://api.github.com/repos/Yahid-Basha/Yahid-Basha\"},\"payload\":{\"repository_id\":444465086,\"push_id\":16859352403,\"size\":1,\"distinct_size\":1,\"ref\":\"refs/heads/output\",\"head\":\"c14bccc0a0ec54e531f764cf8073aaaf04312f4b\",\"before\":\"15aa28da0a59d61a72deb61a22fc1d5c61ebd1e5\",\"commits\":[{\"sha\":\"c14bccc0a0ec54e531f764cf8073aaaf04312f4b\",\"author\":{\"email\":\"41898282+github-actions[bot]@users.noreply.github.com\",\"name\":\"github-actions[bot]\"},\"message\":\"Deploy to GitHub pages\",\"distinct\":true,\"url\":\"https://api.github.com/repos/Yahid-Basha/Yahid-Basha/commits/c14bccc0a0ec54e531f764cf8073aaaf04312f4b\"}]},\"public\":true,\"created_at\":\"2024-01-30T12:13:24Z\"},{\"id\":\"35238941467\",\"type\":\"PushEvent\",\"actor\":{\"id\":41898282,\"login\":\"github-actions[bot]\",\"display_login\":\"github-actions\",\"gravatar_id\":\"\",\"url\":\"https://api.github.com/users/github-actions[bot]\",\"avatar_url\":\"https://avatars.githubusercontent.com/u/41898282?\"},\"repo\":{\"id\":429836612,\"name\":\"Pkamuy/Pkamuy\",\"url\":\"https://api.github.com/repos/Pkamuy/Pkamuy\"},\"payload\":{\"repository_id\":429836612,\"push_id\":16859352399,\"size\":1,\"distinct_size\":1,\"ref\":\"refs/heads/output\",\"head\":\"c14bccc0a0ec54e531f764cf8073aaaf04312f4b\",\"before\":\"01578e135090b13e5eaf8ff0a0ec69c6a2b15fe4\",\"commits\":[{\"sha\":\"c14bccc0a0ec54e531f764cf8073aaaf04312f4b\",\"author\":{\"email\":\"41898282+github-actions[bot]@users.noreply.github.com\",\"name\":\"github-actions[bot]\"},\"message\":\"Deploy to GitHub pages\",\"distinct\":true,\"url\":\"https://api.github.com/repos/Pkamuy/Pkamuy/commits/c14bccc0a0ec54e531f764cf8073aaaf04312f4b\"}]},\"public\":true,\"created_at\":\"2024-01-30T12:13:24Z\"},{\"id\":\"35238941400\",\"type\":\"PushEvent\",\"actor\":{\"id\":109414950,\"login\":\"Shehatesmalachi\",\"display_login\":\"Shehatesmalachi\",\"gravatar_id\":\"\",\"url\":\"https://api.github.com/users/Shehatesmalachi\",\"avatar_url\":\"https://avatars.githubusercontent.com/u/109414950?\"},\"repo\":{\"id\":750298535,\"name\":\"Shehatesmalachi/apex-cheat\",\"url\":\"https://api.github.com/repos/Shehatesmalachi/apex-cheat\"},\"payload\":{\"repository_id\":750298535,\"push_id\":16859352328,\"size\":1,\"distinct_size\":1,\"ref\":\"refs/heads/main\",\"head\":\"46002bb4cb99d983bc2eef64fc33ffee28aa46aa\",\"before\":\"1e11a3bf76fc3d27d3ea7d472387a5c6e4607c92\",\"commits\":[{\"sha\":\"46002bb4cb99d983bc2eef64fc33ffee28aa46aa\",\"author\":{\"email\":\"mail@gmail.com\",\"name\":\"franky\"},\"message\":\"Update README.md\",\"distinct\":true,\"url\":\"https://api.github.com/repos/Shehatesmalachi/apex-cheat/commits/46002bb4cb99d983bc2eef64fc33ffee28aa46aa\"}]},\"public\":true,\"created_at\":\"2024-01-30T12:13:24Z\"},{\"id\":\"35238941425\",\"type\":\"PushEvent\",\"actor\":{\"id\":41898282,\"login\":\"github-actions[bot]\",\"display_login\":\"github-actions\",\"gravatar_id\":\"\",\"url\":\"https://api.github.com/users/github-actions[bot]\",\"avatar_url\":\"https://avatars.githubusercontent.com/u/41898282?\"},\"repo\":{\"id\":512556352,\"name\":\"JDamazio/JDamazio\",\"url\":\"https://api.github.com/repos/JDamazio/JDamazio\"},\"payload\":{\"repository_id\":512556352,\"push_id\":16859352342,\"size\":1,\"distinct_size\":1,\"ref\":\"refs/heads/output\",\"head\":\"c14bccc0a0ec54e531f764cf8073aaaf04312f4b\",\"before\":\"65606267054d514dc6f1799071647cf2f8b84893\",\"commits\":[{\"sha\":\"c14bccc0a0ec54e531f764cf8073aaaf04312f4b\",\"author\":{\"email\":\"41898282+github-actions[bot]@users.noreply.github.com\",\"name\":\"github-actions[bot]\"},\"message\":\"Deploy to GitHub pages\",\"distinct\":true,\"url\":\"https://api.github.com/repos/JDamazio/JDamazio/commits/c14bccc0a0ec54e531f764cf8073aaaf04312f4b\"}]},\"public\":true,\"created_at\":\"2024-01-30T12:13:24Z\"},{\"id\":\"35238941415\",\"type\":\"PushEvent\",\"actor\":{\"id\":53522263,\"login\":\"holakunle\",\"display_login\":\"holakunle\",\"gravatar_id\":\"\",\"url\":\"https://api.github.com/users/holakunle\",\"avatar_url\":\"https://avatars.githubusercontent.com/u/53522263?\"},\"repo\":{\"id\":707574219,\"name\":\"holakunle/Ansibleplaybooks\",\"url\":\"https://api.github.com/repos/holakunle/Ansibleplaybooks\"},\"payload\":{\"repository_id\":707574219,\"push_id\":16859352322,\"size\":1,\"distinct_size\":1,\"ref\":\"refs/heads/main\",\"head\":\"1a682a55ff35516d20476bf5c9dce9929c9416e5\",\"before\":\"e8db4961f3214feb1ed7f663b9f163da75d449e7\",\"commits\":[{\"sha\":\"1a682a55ff35516d20476bf5c9dce9929c9416e5\",\"author\":{\"email\":\"holakunle69@gmail.com\",\"name\":\"holakunle\"},\"message\":\"chnaged nginx to keycloak\",\"distinct\":true,\"url\":\"https://api.github.com/repos/holakunle/Ansibleplaybooks/commits/1a682a55ff35516d20476bf5c9dce9929c9416e5\"}]},\"public\":true,\"created_at\":\"2024-01-30T12:13:24Z\"},{\"id\":\"35238941411\",\"type\":\"PushEvent\",\"actor\":{\"id\":154883105,\"login\":\"teovssorin\",\"display_login\":\"teovssorin\",\"gravatar_id\":\"\",\"url\":\"https://api.github.com/users/teovssorin\",\"avatar_url\":\"https://avatars.githubusercontent.com/u/154883105?\"},\"repo\":{\"id\":749859674,\"name\":\"teovssorin/project8\",\"url\":\"https://api.github.com/repos/teovssorin/project8\"},\"payload\":{\"repository_id\":749859674,\"push_id\":16859352356,\"size\":1,\"distinct_size\":1,\"ref\":\"refs/heads/main\",\"head\":\"9ebaa1f40e4e830fab0def67a593be2491358b9d\",\"before\":\"81bd6048a4df6da6994c8e77f9b1e686126751b6\",\"commits\":[{\"sha\":\"9ebaa1f40e4e830fab0def67a593be2491358b9d\",\"author\":{\"email\":\"waterford_jenniffer@hotmail.com\",\"name\":\"yago-sobis\"},\"message\":\"Update README.md\",\"distinct\":true,\"url\":\"https://api.github.com/repos/teovssorin/project8/commits/9ebaa1f40e4e830fab0def67a593be2491358b9d\"}]},\"public\":true,\"created_at\":\"2024-01-30T12:13:24Z\"},{\"id\":\"35238941519\",\"type\":\"DeleteEvent\",\"actor\":{\"id\":41286756,\"login\":\"delete-merged-branch[bot]\",\"display_login\":\"delete-merged-branch\",\"gravatar_id\":\"\",\"url\":\"https://api.github.com/users/delete-merged-branch[bot]\",\"avatar_url\":\"https://avatars.githubusercontent.com/u/41286756?\"},\"repo\":{\"id\":4933039,\"name\":\"Fody/Fody\",\"url\":\"https://api.github.com/repos/Fody/Fody\"},\"payload\":{\"ref\":\"dependabot/nuget/xunit-2.6.6\",\"ref_type\":\"branch\",\"pusher_type\":\"user\"},\"public\":true,\"created_at\":\"2024-01-30T12:13:24Z\",\"org\":{\"id\":3250496,\"login\":\"Fody\",\"gravatar_id\":\"\",\"url\":\"https://api.github.com/orgs/Fody\",\"avatar_url\":\"https://avatars.githubusercontent.com/u/3250496?\"}},{\"id\":\"35238941452\",\"type\":\"IssuesEvent\",\"actor\":{\"id\":20872157,\"login\":\"nuke86\",\"display_login\":\"nuke86\",\"gravatar_id\":\"\",\"url\":\"https://api.github.com/users/nuke86\",\"avatar_url\":\"https://avatars.githubusercontent.com/u/20872157?\"},\"repo\":{\"id\":618626066,\"name\":\"nuke86/ransomPing\",\"url\":\"https://api.github.com/repos/nuke86/ransomPing\"},\"payload\":{\"action\":\"closed\",\"issue\":{\"url\":\"https://api.github.com/repos/nuke86/ransomPing/issues/6115\",\"repository_url\":\"https://api.github.com/repos/nuke86/ransomPing\",\"labels_url\":\"https://api.github.com/repos/nuke86/ransomPing/issues/6115/labels{/name}\",\"comments_url\":\"https://api.github.com/repos/nuke86/ransomPing/issues/6115/comments\",\"events_url\":\"https://api.github.com/repos/nuke86/ransomPing/issues/6115/events\",\"html_url\":\"https://github.com/nuke86/ransomPing/issues/6115\",\"id\":2107640298,\"node_id\":\"I_kwDOJN98Es59oAnq\",\"number\":6115,\"title\":\"🛑 Guardia di Finanza is down\",\"user\":{\"login\":\"nuke86\",\"id\":20872157,\"node_id\":\"MDQ6VXNlcjIwODcyMTU3\",\"avatar_url\":\"https://avatars.githubusercontent.com/u/20872157?v=4\",\"gravatar_id\":\"\",\"url\":\"https://api.github.com/users/nuke86\",\"html_url\":\"https://github.com/nuke86\",\"followers_url\":\"https://api.github.com/users/nuke86/followers\",\"following_url\":\"https://api.github.com/users/nuke86/following{/other_user}\",\"gists_url\":\"https://api.github.com/users/nuke86/gists{/gist_id}\",\"starred_url\":\"https://api.github.com/users/nuke86/starred{/owner}{/repo}\",\"subscriptions_url\":\"https://api.github.com/users/nuke86/subscriptions\",\"organizations_url\":\"https://api.github.com/users/nuke86/orgs\",\"repos_url\":\"https://api.github.com/users/nuke86/repos\",\"events_url\":\"https://api.github.com/users/nuke86/events{/privacy}\",\"received_events_url\":\"https://api.github.com/users/nuke86/received_events\",\"type\":\"User\",\"site_admin\":false},\"labels\":[{\"id\":5307894789,\"node_id\":\"LA_kwDOJN98Es8AAAABPGAMBQ\",\"url\":\"https://api.github.com/repos/nuke86/ransomPing/labels/status\",\"name\":\"status\",\"color\":\"ededed\",\"default\":false,\"description\":null},{\"id\":5307897328,\"node_id\":\"LA_kwDOJN98Es8AAAABPGAV8A\",\"url\":\"https://api.github.com/repos/nuke86/ransomPing/labels/guardia-di-finanza\",\"name\":\"guardia-di-finanza\",\"color\":\"ededed\",\"default\":false,\"description\":null}],\"state\":\"closed\",\"locked\":true,\"assignee\":null,\"assignees\":[],\"milestone\":null,\"comments\":1,\"created_at\":\"2024-01-30T11:47:17Z\",\"updated_at\":\"2024-01-30T12:13:24Z\",\"closed_at\":\"2024-01-30T12:13:23Z\",\"author_association\":\"OWNER\",\"active_lock_reason\":null,\"body\":\"In [`fcb6cfc`](https://github.com/nuke86/ransomPing/commit/fcb6cfc3915db59b044132429c5317d8adaf4c2f\\\\n), Guardia di Finanza (https://www.gdf.gov.it) was **down**:\\\\n- HTTP code: 0\\\\n- Response time: 0 ms\\\\n\",\"reactions\":{\"url\":\"https://api.github.com/repos/nuke86/ransomPing/issues/6115/reactions\",\"total_count\":0,\"+1\":0,\"-1\":0,\"laugh\":0,\"hooray\":0,\"confused\":0,\"heart\":0,\"rocket\":0,\"eyes\":0},\"timeline_url\":\"https://api.github.com/repos/nuke86/ransomPing/issues/6115/timeline\",\"performed_via_github_app\":null,\"state_reason\":\"completed\"}},\"public\":true,\"created_at\":\"2024-01-30T12:13:24Z\"}]'"
      ]
     },
     "execution_count": 6,
     "metadata": {},
     "output_type": "execute_result"
    }
   ],
   "source": [
    "r.text"
   ]
  },
  {
   "cell_type": "code",
   "execution_count": null,
   "metadata": {},
   "outputs": [],
   "source": [
    "#r.json()"
   ]
  },
  {
   "cell_type": "code",
   "execution_count": null,
   "metadata": {},
   "outputs": [
    {
     "data": {
      "text/plain": [
       "200"
      ]
     },
     "execution_count": 11,
     "metadata": {},
     "output_type": "execute_result"
    }
   ],
   "source": [
    "# alterando o endpoint\n",
    "v = requests.get('https://api.github.com/versions')\n",
    "v.status_code"
   ]
  },
  {
   "cell_type": "code",
   "execution_count": null,
   "metadata": {},
   "outputs": [
    {
     "data": {
      "text/plain": [
       "['2022-11-28']"
      ]
     },
     "execution_count": 12,
     "metadata": {},
     "output_type": "execute_result"
    }
   ],
   "source": [
    "v.json()"
   ]
  },
  {
   "cell_type": "markdown",
   "metadata": {},
   "source": [
    "Requisição GET à API do Github para obter as informações do perfil de um usuário específico"
   ]
  },
  {
   "cell_type": "code",
   "execution_count": null,
   "metadata": {},
   "outputs": [],
   "source": [
    "meu_git = requests.get('https://api.github.com/users/sheylacantalupo')"
   ]
  },
  {
   "cell_type": "code",
   "execution_count": null,
   "metadata": {},
   "outputs": [
    {
     "data": {
      "text/plain": [
       "<Response [200]>"
      ]
     },
     "execution_count": 15,
     "metadata": {},
     "output_type": "execute_result"
    }
   ],
   "source": [
    "meu_git"
   ]
  },
  {
   "cell_type": "code",
   "execution_count": null,
   "metadata": {},
   "outputs": [],
   "source": [
    "json = meu_git.json()"
   ]
  },
  {
   "cell_type": "code",
   "execution_count": null,
   "metadata": {},
   "outputs": [
    {
     "data": {
      "text/plain": [
       "dict_keys(['login', 'id', 'node_id', 'avatar_url', 'gravatar_id', 'url', 'html_url', 'followers_url', 'following_url', 'gists_url', 'starred_url', 'subscriptions_url', 'organizations_url', 'repos_url', 'events_url', 'received_events_url', 'type', 'site_admin', 'name', 'company', 'blog', 'location', 'email', 'hireable', 'bio', 'twitter_username', 'public_repos', 'public_gists', 'followers', 'following', 'created_at', 'updated_at'])"
      ]
     },
     "execution_count": 21,
     "metadata": {},
     "output_type": "execute_result"
    }
   ],
   "source": [
    "json.keys()"
   ]
  },
  {
   "cell_type": "code",
   "execution_count": null,
   "metadata": {},
   "outputs": [
    {
     "data": {
      "text/plain": [
       "25"
      ]
     },
     "execution_count": 22,
     "metadata": {},
     "output_type": "execute_result"
    }
   ],
   "source": [
    "json['public_repos']"
   ]
  },
  {
   "cell_type": "code",
   "execution_count": null,
   "metadata": {},
   "outputs": [
    {
     "data": {
      "text/plain": [
       "'2022-01-26T04:02:21Z'"
      ]
     },
     "execution_count": 23,
     "metadata": {},
     "output_type": "execute_result"
    }
   ],
   "source": [
    "json['created_at']"
   ]
  },
  {
   "cell_type": "markdown",
   "metadata": {},
   "source": [
    "Obtendo dados dos repositórios"
   ]
  },
  {
   "cell_type": "code",
   "execution_count": null,
   "metadata": {},
   "outputs": [],
   "source": [
    "headers = {'X-GitHub-Api-Version': '2022-11-28'}"
   ]
  },
  {
   "cell_type": "code",
   "execution_count": null,
   "metadata": {},
   "outputs": [],
   "source": [
    "api_base_url = 'https://api.github.com'\n",
    "ower = 'amzn'\n",
    "url = f'{api_base_url}/users/{ower}/repos'"
   ]
  },
  {
   "cell_type": "code",
   "execution_count": null,
   "metadata": {},
   "outputs": [
    {
     "data": {
      "text/plain": [
       "200"
      ]
     },
     "execution_count": 27,
     "metadata": {},
     "output_type": "execute_result"
    }
   ],
   "source": [
    "response = requests.get(url, headers=headers)\n",
    "response.status_code"
   ]
  },
  {
   "cell_type": "code",
   "execution_count": null,
   "metadata": {},
   "outputs": [
    {
     "data": {
      "text/plain": [
       "30"
      ]
     },
     "execution_count": 29,
     "metadata": {},
     "output_type": "execute_result"
    }
   ],
   "source": [
    "len(response.json())"
   ]
  },
  {
   "cell_type": "code",
   "execution_count": null,
   "metadata": {},
   "outputs": [],
   "source": [
    "accsess_token = ''\n",
    "headers = {'Authorization': 'Bearer ' + accsess_token,\n",
    "'X-GitHub-Api-Version': '2022-11-28'}"
   ]
  },
  {
   "cell_type": "markdown",
   "metadata": {},
   "source": [
    "Paginando os repositórios:"
   ]
  },
  {
   "cell_type": "code",
   "execution_count": null,
   "metadata": {},
   "outputs": [
    {
     "data": {
      "text/plain": [
       "'https://api.github.com/users/amzn/repos'"
      ]
     },
     "execution_count": 32,
     "metadata": {},
     "output_type": "execute_result"
    }
   ],
   "source": [
    "api_base_url = 'https://api.github.com'\n",
    "ower = 'amzn'\n",
    "url = f'{api_base_url}/users/{ower}/repos'\n",
    "\n",
    "url"
   ]
  },
  {
   "cell_type": "code",
   "execution_count": null,
   "metadata": {},
   "outputs": [],
   "source": [
    "repos_list = []\n",
    "total_repos = 0\n",
    "\n",
    "for page_num in range(1, 6):\n",
    "    try:\n",
    "        url_page = f'{url}?page={page_num}'\n",
    "        response = requests.get(url_page, headers=headers)\n",
    "        repos_list.append(response.json())\n",
    "        total_repos += len(response.json())\n",
    "    except:\n",
    "        repos_list.append(None)"
   ]
  },
  {
   "cell_type": "code",
   "execution_count": null,
   "metadata": {},
   "outputs": [
    {
     "data": {
      "text/plain": [
       "5"
      ]
     },
     "execution_count": 35,
     "metadata": {},
     "output_type": "execute_result"
    }
   ],
   "source": [
    "len(repos_list)"
   ]
  },
  {
   "cell_type": "code",
   "execution_count": null,
   "metadata": {},
   "outputs": [
    {
     "data": {
      "text/plain": [
       "148"
      ]
     },
     "execution_count": 38,
     "metadata": {},
     "output_type": "execute_result"
    }
   ],
   "source": [
    "total_repos"
   ]
  },
  {
   "cell_type": "code",
   "execution_count": null,
   "metadata": {},
   "outputs": [
    {
     "data": {
      "text/plain": [
       "30"
      ]
     },
     "execution_count": 36,
     "metadata": {},
     "output_type": "execute_result"
    }
   ],
   "source": [
    "len(repos_list[0])"
   ]
  },
  {
   "cell_type": "markdown",
   "metadata": {},
   "source": [
    "Transformando os dados"
   ]
  },
  {
   "cell_type": "code",
   "execution_count": null,
   "metadata": {},
   "outputs": [
    {
     "data": {
      "text/plain": [
       "'ads-pao-amznjs-gtm-template'"
      ]
     },
     "execution_count": 41,
     "metadata": {},
     "output_type": "execute_result"
    }
   ],
   "source": [
    "repos_list[0][2]['name']"
   ]
  },
  {
   "cell_type": "code",
   "execution_count": null,
   "metadata": {},
   "outputs": [
    {
     "data": {
      "text/plain": [
       "148"
      ]
     },
     "execution_count": 83,
     "metadata": {},
     "output_type": "execute_result"
    }
   ],
   "source": [
    "repos_name = []\n",
    "for page in repos_list:\n",
    "    for repo in page:\n",
    "        repos_name.append(repo['name'])\n",
    "len(repos_name)"
   ]
  },
  {
   "cell_type": "code",
   "execution_count": null,
   "metadata": {},
   "outputs": [
    {
     "data": {
      "text/plain": [
       "['.github',\n",
       " 'ads-advanced-tools-docs',\n",
       " 'ads-pao-amznjs-gtm-template',\n",
       " 'alexa-coho',\n",
       " 'alexa-skills-kit-js',\n",
       " 'amazon-ads-advertiser-audience-normalization-sdk-py',\n",
       " 'amazon-advertising-api-php-sdk',\n",
       " 'amazon-codeguru-profiler-for-spark',\n",
       " 'amazon-frustration-free-setup-certification-tool',\n",
       " 'amazon-hub-counter-api-docs']"
      ]
     },
     "execution_count": 46,
     "metadata": {},
     "output_type": "execute_result"
    }
   ],
   "source": [
    "repos_name[:10]"
   ]
  },
  {
   "cell_type": "markdown",
   "metadata": {},
   "source": [
    "Linguagens dos repositórios"
   ]
  },
  {
   "cell_type": "code",
   "execution_count": null,
   "metadata": {},
   "outputs": [
    {
     "name": "stdout",
     "output_type": "stream",
     "text": [
      "PHP\n"
     ]
    }
   ],
   "source": [
    "print(repos_list[1][1]['language'])"
   ]
  },
  {
   "cell_type": "code",
   "execution_count": null,
   "metadata": {},
   "outputs": [
    {
     "data": {
      "text/plain": [
       "148"
      ]
     },
     "execution_count": 84,
     "metadata": {},
     "output_type": "execute_result"
    }
   ],
   "source": [
    "repos_language = []\n",
    "for page in repos_list:\n",
    "    for repo in page:\n",
    "        repos_language.append(repo['language'])\n",
    "len(repos_language)"
   ]
  },
  {
   "cell_type": "code",
   "execution_count": null,
   "metadata": {},
   "outputs": [
    {
     "data": {
      "text/plain": [
       "[None,\n",
       " None,\n",
       " 'Smarty',\n",
       " 'JavaScript',\n",
       " None,\n",
       " 'Python',\n",
       " 'PHP',\n",
       " 'Java',\n",
       " 'Python',\n",
       " 'CSS']"
      ]
     },
     "execution_count": 65,
     "metadata": {},
     "output_type": "execute_result"
    }
   ],
   "source": [
    "repos_language[:10]"
   ]
  },
  {
   "cell_type": "markdown",
   "metadata": {},
   "source": [
    "Criando um DataFreme"
   ]
  },
  {
   "cell_type": "code",
   "execution_count": null,
   "metadata": {},
   "outputs": [],
   "source": [
    "import pandas as pd"
   ]
  },
  {
   "cell_type": "code",
   "execution_count": null,
   "metadata": {},
   "outputs": [],
   "source": [
    "dados_amz = pd.DataFrame()"
   ]
  },
  {
   "cell_type": "code",
   "execution_count": null,
   "metadata": {},
   "outputs": [],
   "source": [
    "dados_amz['repository_name'] = repos_name"
   ]
  },
  {
   "cell_type": "code",
   "execution_count": null,
   "metadata": {},
   "outputs": [],
   "source": [
    "dados_amz['language'] = repos_language"
   ]
  },
  {
   "cell_type": "code",
   "execution_count": null,
   "metadata": {},
   "outputs": [
    {
     "data": {
      "text/html": [
       "<div>\n",
       "<style scoped>\n",
       "    .dataframe tbody tr th:only-of-type {\n",
       "        vertical-align: middle;\n",
       "    }\n",
       "\n",
       "    .dataframe tbody tr th {\n",
       "        vertical-align: top;\n",
       "    }\n",
       "\n",
       "    .dataframe thead th {\n",
       "        text-align: right;\n",
       "    }\n",
       "</style>\n",
       "<table border=\"1\" class=\"dataframe\">\n",
       "  <thead>\n",
       "    <tr style=\"text-align: right;\">\n",
       "      <th></th>\n",
       "      <th>repository_name</th>\n",
       "      <th>language</th>\n",
       "    </tr>\n",
       "  </thead>\n",
       "  <tbody>\n",
       "    <tr>\n",
       "      <th>0</th>\n",
       "      <td>.github</td>\n",
       "      <td>None</td>\n",
       "    </tr>\n",
       "    <tr>\n",
       "      <th>1</th>\n",
       "      <td>ads-advanced-tools-docs</td>\n",
       "      <td>None</td>\n",
       "    </tr>\n",
       "    <tr>\n",
       "      <th>2</th>\n",
       "      <td>ads-pao-amznjs-gtm-template</td>\n",
       "      <td>Smarty</td>\n",
       "    </tr>\n",
       "    <tr>\n",
       "      <th>3</th>\n",
       "      <td>alexa-coho</td>\n",
       "      <td>JavaScript</td>\n",
       "    </tr>\n",
       "    <tr>\n",
       "      <th>4</th>\n",
       "      <td>alexa-skills-kit-js</td>\n",
       "      <td>None</td>\n",
       "    </tr>\n",
       "    <tr>\n",
       "      <th>...</th>\n",
       "      <td>...</td>\n",
       "      <td>...</td>\n",
       "    </tr>\n",
       "    <tr>\n",
       "      <th>143</th>\n",
       "      <td>zeek-plugin-enip</td>\n",
       "      <td>Zeek</td>\n",
       "    </tr>\n",
       "    <tr>\n",
       "      <th>144</th>\n",
       "      <td>zeek-plugin-profinet</td>\n",
       "      <td>Zeek</td>\n",
       "    </tr>\n",
       "    <tr>\n",
       "      <th>145</th>\n",
       "      <td>zeek-plugin-s7comm</td>\n",
       "      <td>Zeek</td>\n",
       "    </tr>\n",
       "    <tr>\n",
       "      <th>146</th>\n",
       "      <td>zeek-plugin-tds</td>\n",
       "      <td>Zeek</td>\n",
       "    </tr>\n",
       "    <tr>\n",
       "      <th>147</th>\n",
       "      <td>zero-shot-rlhr</td>\n",
       "      <td>Python</td>\n",
       "    </tr>\n",
       "  </tbody>\n",
       "</table>\n",
       "<p>148 rows × 2 columns</p>\n",
       "</div>"
      ],
      "text/plain": [
       "                 repository_name    language\n",
       "0                        .github        None\n",
       "1        ads-advanced-tools-docs        None\n",
       "2    ads-pao-amznjs-gtm-template      Smarty\n",
       "3                     alexa-coho  JavaScript\n",
       "4            alexa-skills-kit-js        None\n",
       "..                           ...         ...\n",
       "143             zeek-plugin-enip        Zeek\n",
       "144         zeek-plugin-profinet        Zeek\n",
       "145           zeek-plugin-s7comm        Zeek\n",
       "146              zeek-plugin-tds        Zeek\n",
       "147               zero-shot-rlhr      Python\n",
       "\n",
       "[148 rows x 2 columns]"
      ]
     },
     "execution_count": 88,
     "metadata": {},
     "output_type": "execute_result"
    }
   ],
   "source": [
    "dados_amz"
   ]
  },
  {
   "cell_type": "markdown",
   "metadata": {},
   "source": [
    "Salvando o DataFreme"
   ]
  },
  {
   "cell_type": "code",
   "execution_count": null,
   "metadata": {},
   "outputs": [],
   "source": [
    "dados_amz.to_csv('amazon.csv')"
   ]
  },
  {
   "cell_type": "markdown",
   "metadata": {},
   "source": [
    "Criando repositório com POST"
   ]
  },
  {
   "cell_type": "code",
   "execution_count": null,
   "metadata": {},
   "outputs": [
    {
     "data": {
      "text/plain": [
       "'https://api.gthub.com/user/repos'"
      ]
     },
     "execution_count": 113,
     "metadata": {},
     "output_type": "execute_result"
    }
   ],
   "source": [
    "api_base_url = 'https://api.gthub.com'\n",
    "url = f'{api_base_url}/user/repos'\n",
    "\n",
    "url"
   ]
  },
  {
   "cell_type": "code",
   "execution_count": null,
   "metadata": {},
   "outputs": [
    {
     "data": {
      "text/plain": [
       "404"
      ]
     },
     "execution_count": 130,
     "metadata": {},
     "output_type": "execute_result"
    }
   ],
   "source": [
    "accsess_token = ''\n",
    "headers = {'Authorization': 'Bearer ' + accsess_token,\n",
    "'X-GitHub-Api-Version': '2022-11-28'}\n",
    "\n",
    "data = {\n",
    "    'name': 'linguagens-utilizadas',\n",
    "    'description': 'Repositorio com as linguagem de prog da amazon',\n",
    "    'private': False\n",
    "}\n",
    "reponse = requests.post(url, json=data ,headers=headers)\n",
    "response.status_code"
   ]
  },
  {
   "cell_type": "code",
   "execution_count": null,
   "metadata": {},
   "outputs": [],
   "source": [
    "import base64"
   ]
  },
  {
   "cell_type": "code",
   "execution_count": null,
   "metadata": {},
   "outputs": [],
   "source": [
    "with open('amazon.csv', 'rb') as file:\n",
    "    file_content = file.read()\n",
    "\n",
    "encoded_content = base64.b64encode(file_content)"
   ]
  },
  {
   "cell_type": "code",
   "execution_count": null,
   "metadata": {},
   "outputs": [
    {
     "data": {
      "text/plain": [
       "'https://api.gthub.com/repos/sheylacantalupo/linguagens-utilizadas/contents/amazon.csv'"
      ]
     },
     "execution_count": 148,
     "metadata": {},
     "output_type": "execute_result"
    }
   ],
   "source": [
    "api_base_url = 'https://api.gthub.com'\n",
    "username = 'sheylacantalupo'\n",
    "repo = 'linguagens-utilizadas'\n",
    "path = 'amazon.csv'\n",
    "\n",
    "url = f'{api_base_url}/repos/{username}/{repo}/contents/{path}'\n",
    "url"
   ]
  },
  {
   "cell_type": "code",
   "execution_count": null,
   "metadata": {},
   "outputs": [
    {
     "data": {
      "text/plain": [
       "200"
      ]
     },
     "execution_count": 152,
     "metadata": {},
     "output_type": "execute_result"
    }
   ],
   "source": [
    "data = {\n",
    "    'message': 'adicionado um novo arquivo',\n",
    "    'content': encoded_content.decode('utf-8')\n",
    "}\n",
    "\n",
    "reponse = requests.put(url, json=data, headers=headers)\n",
    "reponse.status_code"
   ]
  },
  {
   "cell_type": "code",
   "execution_count": null,
   "metadata": {},
   "outputs": [],
   "source": []
  }
 ],
 "metadata": {
  "kernelspec": {
   "display_name": "venv",
   "language": "python",
   "name": "python3"
  },
  "language_info": {
   "codemirror_mode": {
    "name": "ipython",
    "version": 3
   },
   "file_extension": ".py",
   "mimetype": "text/x-python",
   "name": "python",
   "nbconvert_exporter": "python",
   "pygments_lexer": "ipython3",
   "version": "3.10.12"
  }
 },
 "nbformat": 4,
 "nbformat_minor": 2
}
